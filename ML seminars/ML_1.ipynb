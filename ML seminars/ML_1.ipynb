{
 "cells": [
  {
   "cell_type": "markdown",
   "metadata": {},
   "source": [
    "Вам дан набор данных с фактическими значениями целевой переменной и предсказанными значениями:\n",
    "\n",
    "Фактические значения:\n",
    "actual_values = np.array([100, 150, 200, 250])\n",
    "\n",
    "Предсказанные значения:\n",
    "predicted_values = np.array([90, 140, 180, 270])\n",
    "\n",
    "Задача студентов состоит в расчете среднеквадратичной ошибки (MSE) и средней абсолютной ошибки (MAE) для данного набора данных без использования модели. Студенты должны использовать правильные значения фактической переменной и предсказанные значения для расчета функций потерь. Они также должны проанализировать результаты и объяснить, какие значения функции потерь указывают на лучшую точность предсказания.\n"
   ]
  },
  {
   "cell_type": "code",
   "execution_count": 3,
   "metadata": {},
   "outputs": [],
   "source": [
    "import numpy as np\n",
    "actual_values = np.array([100, 150, 200, 250])\n",
    "predicted_values = np.array([90, 140, 180, 270])"
   ]
  },
  {
   "cell_type": "code",
   "execution_count": 4,
   "metadata": {},
   "outputs": [],
   "source": [
    "# Расчет MSE\n",
    "\n",
    "def calculate_mse(y_true, y_pred):\n",
    "\n",
    "    \"\"\"Вычисляет среднеквадратичную ошибку (MSE).\"\"\"\n",
    "\n",
    "    return np.mean((y_true - y_pred) ** 2)\n",
    "\n",
    "# Расчет MAE\n",
    "\n",
    "def calculate_mae(y_true, y_pred):\n",
    "\n",
    "    \"\"\"Вычисляет среднюю абсолютную ошибку (MAE).\"\"\"\n",
    "\n",
    "    return np.mean(np.abs(y_true - y_pred))"
   ]
  },
  {
   "cell_type": "code",
   "execution_count": 5,
   "metadata": {},
   "outputs": [
    {
     "name": "stdout",
     "output_type": "stream",
     "text": [
      "Среднеквадратичная ошибка (MSE): 250.0\n",
      "Средняя абсолютная ошибка (MAE): 15.0\n"
     ]
    }
   ],
   "source": [
    "mse = calculate_mse(actual_values, predicted_values)\n",
    "mae = calculate_mae(actual_values, predicted_values)\n",
    "print(f\"Среднеквадратичная ошибка (MSE): {mse}\")\n",
    "print(f\"Средняя абсолютная ошибка (MAE): {mae}\")"
   ]
  },
  {
   "cell_type": "markdown",
   "metadata": {},
   "source": [
    "А теперь без numpy"
   ]
  },
  {
   "cell_type": "code",
   "execution_count": 6,
   "metadata": {},
   "outputs": [
    {
     "name": "stdout",
     "output_type": "stream",
     "text": [
      "Среднеквадратичная ошибка (MSE): 250.0\n",
      "Средняя абсолютная ошибка (MAE): 15.0\n"
     ]
    }
   ],
   "source": [
    "def calculate_mse_without_np(y_true, y_pred):\n",
    "    n = len(y_true)\n",
    "    mse = sum((y_true[i] - y_pred[i]) ** 2 for i in range(n)) / n\n",
    "\n",
    "    return mse\n",
    "\n",
    "\n",
    "def calculate_mae_without_np(y_true, y_pred):\n",
    "\n",
    "    n = len(y_true)\n",
    "    mae = sum(abs(y_true[i] - y_pred[i]) for i in range(n)) / n\n",
    "\n",
    "    return mae\n",
    "\n",
    "mse = calculate_mse_without_np(actual_values, predicted_values)\n",
    "mae = calculate_mae_without_np(actual_values, predicted_values)\n",
    "\n",
    "print(f\"Среднеквадратичная ошибка (MSE): {mse}\")\n",
    "print(f\"Средняя абсолютная ошибка (MAE): {mae}\")"
   ]
  }
 ],
 "metadata": {
  "kernelspec": {
   "display_name": "Python 3",
   "language": "python",
   "name": "python3"
  },
  "language_info": {
   "codemirror_mode": {
    "name": "ipython",
    "version": 3
   },
   "file_extension": ".py",
   "mimetype": "text/x-python",
   "name": "python",
   "nbconvert_exporter": "python",
   "pygments_lexer": "ipython3",
   "version": "3.13.0"
  }
 },
 "nbformat": 4,
 "nbformat_minor": 2
}

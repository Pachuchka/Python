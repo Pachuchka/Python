{
 "cells": [
  {
   "cell_type": "markdown",
   "metadata": {},
   "source": [
    "**Семинар 2.**\n",
    "\n",
    "Пусть у нас имеется некоторый набор данных sales.csv о продажах квартир.\n",
    "\n",
    "— цена продажи (SalePrice, зависимая переменная),\n",
    "\n",
    "— наземная жилая зона (GrLivArea),\n",
    "\n",
    "— общее качество (Overall Quality),\n",
    "\n",
    "— территория гаража (GarageArea),\n",
    "\n",
    "— условия сделки (SaleCondition).\n",
    "\n",
    "Реализуйте построение модели линейной регрессии на этих данных. Проверьте качество модели на обучающей и тестовой выборках с помощью MAE, MSE."
   ]
  },
  {
   "cell_type": "code",
   "execution_count": 66,
   "metadata": {},
   "outputs": [
    {
     "name": "stdout",
     "output_type": "stream",
     "text": [
      "   SalePrice  GrLivArea  GarageArea  OverallQual Street SaleCondition\n",
      "0     208500       1710         548            7   Pave        Normal\n",
      "1     181500       1262         460            6   Pave        Normal\n",
      "2     223500       1786         608            7   Pave        Normal\n",
      "3     140000       1717         642            7   Pave       Abnorml\n",
      "4     250000       2198         836            8   Pave        Normal\n"
     ]
    }
   ],
   "source": [
    "import pandas as pd\n",
    "df = pd.read_csv('sales.csv')\n",
    "# Display the first few rows of the DataFrame\n",
    "print(df.head())"
   ]
  },
  {
   "cell_type": "markdown",
   "metadata": {},
   "source": [
    "Добавим функции из предыдущего семинара, для оценки MSE и MSA"
   ]
  },
  {
   "cell_type": "code",
   "execution_count": 67,
   "metadata": {},
   "outputs": [],
   "source": [
    "def calculate_mse(y_true, y_pred):\n",
    "    n = len(y_true)\n",
    "    mse = sum((y_true[i] - y_pred[i]) ** 2 for i in range(n)) / n\n",
    "\n",
    "    return mse\n",
    "\n",
    "\n",
    "def calculate_mae(y_true, y_pred):\n",
    "    n = len(y_true)\n",
    "    mae = sum(abs(y_true[i] - y_pred[i]) for i in range(n)) / n\n",
    "\n",
    "    return mae"
   ]
  },
  {
   "cell_type": "markdown",
   "metadata": {},
   "source": [
    "Реализуем метод наименьших квадратов"
   ]
  },
  {
   "cell_type": "code",
   "execution_count": 68,
   "metadata": {},
   "outputs": [
    {
     "name": "stdout",
     "output_type": "stream",
     "text": [
      "<class 'pandas.core.frame.DataFrame'>\n",
      "RangeIndex: 1460 entries, 0 to 1459\n",
      "Data columns (total 6 columns):\n",
      " #   Column         Non-Null Count  Dtype \n",
      "---  ------         --------------  ----- \n",
      " 0   SalePrice      1460 non-null   int64 \n",
      " 1   GrLivArea      1460 non-null   int64 \n",
      " 2   GarageArea     1460 non-null   int64 \n",
      " 3   OverallQual    1460 non-null   int64 \n",
      " 4   Street         1460 non-null   object\n",
      " 5   SaleCondition  1460 non-null   object\n",
      "dtypes: int64(4), object(2)\n",
      "memory usage: 68.6+ KB\n"
     ]
    }
   ],
   "source": [
    "df.info()"
   ]
  },
  {
   "cell_type": "markdown",
   "metadata": {},
   "source": [
    "так как помещений с нулём ванных комнат нет в датафрейме, то заменим пустые значения на нуль"
   ]
  },
  {
   "cell_type": "markdown",
   "metadata": {},
   "source": [
    "Проверим наличие дубликатов"
   ]
  },
  {
   "cell_type": "code",
   "execution_count": 69,
   "metadata": {},
   "outputs": [
    {
     "name": "stdout",
     "output_type": "stream",
     "text": [
      "number of duplicate rows:  (1, 6)\n",
      "\n",
      "Дубликаты в DataFrame:\n",
      "     SalePrice  GrLivArea  GarageArea  OverallQual Street SaleCondition\n",
      "603     151000       1200         480            7   Pave        Normal\n",
      "831     151000       1200         480            7   Pave        Normal\n"
     ]
    }
   ],
   "source": [
    "duplicate_rows_data = df[df.duplicated()]\n",
    "print(\"number of duplicate rows: \", duplicate_rows_data.shape)\n",
    "# Вывод дубликатов\n",
    "\n",
    "duplicates = df[df.duplicated(keep=False)]  # keep=False показывает все дубликаты\n",
    "\n",
    "print(\"\\nДубликаты в DataFrame:\")\n",
    "\n",
    "print(duplicates)"
   ]
  },
  {
   "cell_type": "code",
   "execution_count": 70,
   "metadata": {},
   "outputs": [],
   "source": [
    "df = df.drop_duplicates()"
   ]
  },
  {
   "cell_type": "code",
   "execution_count": 71,
   "metadata": {},
   "outputs": [
    {
     "name": "stdout",
     "output_type": "stream",
     "text": [
      "\n",
      "Дубликаты в DataFrame:\n",
      "Empty DataFrame\n",
      "Columns: [SalePrice, GrLivArea, GarageArea, OverallQual, Street, SaleCondition]\n",
      "Index: []\n"
     ]
    }
   ],
   "source": [
    "duplicates = df[df.duplicated(keep=False)]  # keep=False показывает все дубликаты\n",
    "\n",
    "print(\"\\nДубликаты в DataFrame:\")\n",
    "\n",
    "print(duplicates)"
   ]
  },
  {
   "cell_type": "markdown",
   "metadata": {},
   "source": [
    "Дубликатов больше нет"
   ]
  },
  {
   "cell_type": "markdown",
   "metadata": {},
   "source": [
    "Построим модель и обучим её\n"
   ]
  },
  {
   "cell_type": "code",
   "execution_count": 72,
   "metadata": {},
   "outputs": [
    {
     "name": "stdout",
     "output_type": "stream",
     "text": [
      "Обучающая выборка:\n",
      "MSE: 1769627933.6199524403\n",
      "MAE: 27296.8758083552\n",
      "\n",
      "Тестовая выборка:\n",
      "MSE: 1140151688.2083835602\n",
      "MAE: 25525.7943690295\n"
     ]
    }
   ],
   "source": [
    "from sklearn.linear_model import LinearRegression\n",
    "from sklearn.model_selection import train_test_split\n",
    "from sklearn.metrics import mean_squared_error, mean_absolute_error\n",
    "X = df[['GrLivArea', 'GarageArea', 'OverallQual']]\n",
    "y = df[\"SalePrice\"]\n",
    "X_train, X_test, y_train, y_test = train_test_split(X, y, test_size=0.2, random_state=42)\n",
    "\n",
    "# Создание и обучение модели\n",
    "lr = LinearRegression()\n",
    "lr.fit(X_train, y_train)\n",
    "\n",
    "# Предсказания для обучающей выборки\n",
    "y_train_pred = lr.predict(X_train)\n",
    "\n",
    "# Предсказания для тестовой выборки\n",
    "y_test_pred = lr.predict(X_test)\n",
    "\n",
    "# Приведение y_train и y_train_pred к одному индексу\n",
    "y_train = y_train.reset_index(drop=True)\n",
    "y_train_pred = pd.Series(y_train_pred)\n",
    "\n",
    "# Вычисление ошибок для обучающей выборки\n",
    "mse_train = mean_squared_error(y_train, y_train_pred)\n",
    "mae_train = mean_absolute_error(y_train, y_train_pred)\n",
    "\n",
    "# Приведение y_test и y_test_pred к одному индексу\n",
    "y_test = y_test.reset_index(drop=True)\n",
    "y_test_pred = pd.Series(y_test_pred)\n",
    "\n",
    "mse_test = mean_squared_error(y_test, y_test_pred)\n",
    "mae_test = mean_absolute_error(y_test, y_test_pred)\n",
    "\n",
    "print(f'Обучающая выборка:\\nMSE: {mse_train:.10f}\\nMAE: {mae_train:.10f}\\n')\n",
    "print(f'Тестовая выборка:\\nMSE: {mse_test:.10f}\\nMAE: {mae_test:.10f}')"
   ]
  },
  {
   "cell_type": "markdown",
   "metadata": {},
   "source": [
    "А что если мы преобразуем тип Object к числам и добавим эти атрибуты в модель?"
   ]
  },
  {
   "cell_type": "code",
   "execution_count": 73,
   "metadata": {},
   "outputs": [
    {
     "name": "stdout",
     "output_type": "stream",
     "text": [
      "\n",
      "Уникальные значения в столбце 'Street': ['Pave' 'Grvl']\n"
     ]
    }
   ],
   "source": [
    "unique_values = df['Street'].unique()\n",
    "\n",
    "print(f\"\\nУникальные значения в столбце 'Street': {unique_values}\")\n"
   ]
  },
  {
   "cell_type": "code",
   "execution_count": 74,
   "metadata": {},
   "outputs": [
    {
     "name": "stdout",
     "output_type": "stream",
     "text": [
      "\n",
      "Уникальные значения в столбце 'SaleCondition': ['Normal' 'Abnorml' 'Partial' 'AdjLand' 'Alloca' 'Family']\n"
     ]
    }
   ],
   "source": [
    "unique_Condition = df['SaleCondition'].unique()\n",
    "\n",
    "print(f\"\\nУникальные значения в столбце 'SaleCondition': {unique_Condition}\")"
   ]
  },
  {
   "cell_type": "code",
   "execution_count": null,
   "metadata": {},
   "outputs": [
    {
     "name": "stdout",
     "output_type": "stream",
     "text": [
      "\n",
      "Измененный DataFrame:\n",
      "      SalePrice  GrLivArea  GarageArea  OverallQual  Street  SaleCondition\n",
      "0        208500       1710         548            7       1              1\n",
      "1        181500       1262         460            6       1              1\n",
      "2        223500       1786         608            7       1              1\n",
      "3        140000       1717         642            7       1              2\n",
      "4        250000       2198         836            8       1              1\n",
      "...         ...        ...         ...          ...     ...            ...\n",
      "1455     175000       1647         460            6       1              1\n",
      "1456     210000       2073         500            6       1              1\n",
      "1457     266500       2340         252            7       1              1\n",
      "1458     142125       1078         240            5       1              1\n",
      "1459     147500       1256         276            5       1              1\n",
      "\n",
      "[1459 rows x 6 columns]\n"
     ]
    },
    {
     "name": "stderr",
     "output_type": "stream",
     "text": [
      "C:\\Users\\Klimov_as\\AppData\\Local\\Temp\\ipykernel_20332\\2973963258.py:17: FutureWarning: Downcasting behavior in `replace` is deprecated and will be removed in a future version. To retain the old behavior, explicitly call `result.infer_objects(copy=False)`. To opt-in to the future behavior, set `pd.set_option('future.no_silent_downcasting', True)`\n",
      "  df['Street'] = df['Street'].replace(street_mapping)\n",
      "C:\\Users\\Klimov_as\\AppData\\Local\\Temp\\ipykernel_20332\\2973963258.py:19: FutureWarning: Downcasting behavior in `replace` is deprecated and will be removed in a future version. To retain the old behavior, explicitly call `result.infer_objects(copy=False)`. To opt-in to the future behavior, set `pd.set_option('future.no_silent_downcasting', True)`\n",
      "  df['SaleCondition'] = df['SaleCondition'].replace(sale_condition_mapping)\n"
     ]
    }
   ],
   "source": [
    "data = {\n",
    "    'Street': ['Pave', 'Grvl', 'Pave', 'Grvl'],\n",
    "    'SaleCondition': ['Normal', 'Abnorml', 'Partial', 'Normal']\n",
    "}\n",
    "street_mapping = {'Pave': 1, 'Grvl': 0}\n",
    "sale_condition_mapping = {\n",
    "    'Normal': 1,\n",
    "    'Abnorml': 2,\n",
    "    'Partial': 3,\n",
    "    'AdjLand': 4,\n",
    "    'Alloca': 5,\n",
    "    'Family': 6\n",
    "}\n",
    "# Замена значений в столбце 'Street'\n",
    "df['Street'] = df['Street'].replace(street_mapping)\n",
    "# Замена значений в столбце 'SaleCondition'\n",
    "df['SaleCondition'] = df['SaleCondition'].replace(sale_condition_mapping)\n",
    "# Вывод измененного DataFrame\n",
    "print(\"\\nИзмененный DataFrame:\")\n",
    "print(df)"
   ]
  },
  {
   "cell_type": "code",
   "execution_count": 77,
   "metadata": {},
   "outputs": [
    {
     "name": "stdout",
     "output_type": "stream",
     "text": [
      "Обучающая выборка:\n",
      "MSE: 1763931294.8281713\n",
      "MAE: 27230.76885721421\n",
      "\n",
      "Тестовая выборка:\n",
      "MSE: 1149676755.3149831\n",
      "MAE: 25593.213533677535\n"
     ]
    }
   ],
   "source": [
    "X = df.drop([\"SalePrice\"], axis=1)\n",
    "y = df[\"SalePrice\"]\n",
    "\n",
    "X_train, X_test, y_train, y_test = train_test_split(X, y, test_size=0.2, random_state=42)\n",
    "\n",
    "# Создание и обучение модели\n",
    "lr = LinearRegression()\n",
    "lr.fit(X_train, y_train)\n",
    "\n",
    "# Предсказания для обучающей выборки\n",
    "y_train_pred = lr.predict(X_train)\n",
    "\n",
    "# Предсказания для тестовой выборки\n",
    "y_test_pred = lr.predict(X_test)\n",
    "\n",
    "# Приведение y_train и y_train_pred к одному индексу\n",
    "y_train = y_train.reset_index(drop=True)\n",
    "y_train_pred = pd.Series(y_train_pred)\n",
    "\n",
    "# Вычисление ошибок для обучающей выборки\n",
    "mse_train = mean_squared_error(y_train, y_train_pred)\n",
    "mae_train = mean_absolute_error(y_train, y_train_pred)\n",
    "\n",
    "# Приведение y_test и y_test_pred к одному индексу\n",
    "y_test = y_test.reset_index(drop=True)\n",
    "y_test_pred = pd.Series(y_test_pred)\n",
    "\n",
    "mse_test = mean_squared_error(y_test, y_test_pred)\n",
    "mae_test = mean_absolute_error(y_test, y_test_pred)\n",
    "\n",
    "print(f'Обучающая выборка:\\nMSE: {mse_train}\\nMAE: {mae_train}\\n')\n",
    "print(f'Тестовая выборка:\\nMSE: {mse_test}\\nMAE: {mae_test}')"
   ]
  },
  {
   "cell_type": "markdown",
   "metadata": {},
   "source": [
    "Практически ничего не изменилось, видимо целевая переменная слабо кореллирует с добавленными атрибутами"
   ]
  }
 ],
 "metadata": {
  "kernelspec": {
   "display_name": "Python 3",
   "language": "python",
   "name": "python3"
  },
  "language_info": {
   "codemirror_mode": {
    "name": "ipython",
    "version": 3
   },
   "file_extension": ".py",
   "mimetype": "text/x-python",
   "name": "python",
   "nbconvert_exporter": "python",
   "pygments_lexer": "ipython3",
   "version": "3.13.0"
  }
 },
 "nbformat": 4,
 "nbformat_minor": 2
}

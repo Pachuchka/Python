{
 "cells": [
  {
   "cell_type": "markdown",
   "metadata": {},
   "source": [
    "**Семинар 2.**\n",
    "\n",
    "Пусть у нас имеется некоторый набор данных sales.csv о продажах квартир.\n",
    "\n",
    "— цена продажи (SalePrice, зависимая переменная),\n",
    "\n",
    "— наземная жилая зона (GrLivArea),\n",
    "\n",
    "— общее качество (Overall Quality),\n",
    "\n",
    "— территория гаража (GarageArea),\n",
    "\n",
    "— условия сделки (SaleCondition).\n",
    "\n",
    "Реализуйте построение модели линейной регрессии на этих данных. Проверьте качество модели на обучающей и тестовой выборках с помощью MAE, MSE."
   ]
  },
  {
   "cell_type": "code",
   "execution_count": 23,
   "metadata": {},
   "outputs": [
    {
     "name": "stdout",
     "output_type": "stream",
     "text": [
      "   longitude  latitude  ...  median_house_value  ocean_proximity\n",
      "0    -122.23     37.88  ...            452600.0         NEAR BAY\n",
      "1    -122.22     37.86  ...            358500.0         NEAR BAY\n",
      "2    -122.24     37.85  ...            352100.0         NEAR BAY\n",
      "3    -122.25     37.85  ...            341300.0         NEAR BAY\n",
      "4    -122.25     37.85  ...            342200.0         NEAR BAY\n",
      "\n",
      "[5 rows x 10 columns]\n"
     ]
    }
   ],
   "source": [
    "import pandas as pd\n",
    "df = pd.read_csv('housing.csv')\n",
    "# Display the first few rows of the DataFrame\n",
    "print(df.head())"
   ]
  },
  {
   "cell_type": "markdown",
   "metadata": {},
   "source": [
    "Добавим функции из предыдущего семинара, для оценки MSE и MSA"
   ]
  },
  {
   "cell_type": "code",
   "execution_count": 24,
   "metadata": {},
   "outputs": [],
   "source": [
    "def calculate_mse(y_true, y_pred):\n",
    "    n = len(y_true)\n",
    "    mse = sum((y_true[i] - y_pred[i]) ** 2 for i in range(n)) / n\n",
    "\n",
    "    return mse\n",
    "\n",
    "\n",
    "def calculate_mae(y_true, y_pred):\n",
    "    n = len(y_true)\n",
    "    mae = sum(abs(y_true[i] - y_pred[i]) for i in range(n)) / n\n",
    "\n",
    "    return mae"
   ]
  },
  {
   "cell_type": "markdown",
   "metadata": {},
   "source": [
    "Реализуем метод наименьших квадратов"
   ]
  },
  {
   "cell_type": "code",
   "execution_count": 25,
   "metadata": {},
   "outputs": [],
   "source": [
    "def least_squares(x, y):\n",
    "    #Вычисляеv параметры линейной модели y = mx + b с использованием метода наименьших квадратов\n",
    "    n = len(x)\n",
    "    if n != len(y):\n",
    "        raise ValueError(\"Длины списков x и y должны совпадать.\")\n",
    "\n",
    "    # Вычисляем необходимые суммы\n",
    "    sum_x = sum(x)\n",
    "    sum_y = sum(y)\n",
    "    sum_xy = sum(x[i] * y[i] for i in range(n))\n",
    "    sum_x_squared = sum(xi ** 2 for xi in x)\n",
    "    # Вычисляем наклон (m) и пересечение (b)\n",
    "    m = (n * sum_xy - sum_x * sum_y) / (n * sum_x_squared - sum_x ** 2)\n",
    "    b = (sum_y - m * sum_x) / n\n",
    "    return m, b"
   ]
  },
  {
   "cell_type": "code",
   "execution_count": 26,
   "metadata": {},
   "outputs": [
    {
     "name": "stdout",
     "output_type": "stream",
     "text": [
      "<class 'pandas.core.frame.DataFrame'>\n",
      "RangeIndex: 20640 entries, 0 to 20639\n",
      "Data columns (total 10 columns):\n",
      " #   Column              Non-Null Count  Dtype  \n",
      "---  ------              --------------  -----  \n",
      " 0   longitude           20640 non-null  float64\n",
      " 1   latitude            20640 non-null  float64\n",
      " 2   housing_median_age  20640 non-null  float64\n",
      " 3   total_rooms         20640 non-null  float64\n",
      " 4   total_bedrooms      20433 non-null  float64\n",
      " 5   population          20640 non-null  float64\n",
      " 6   households          20640 non-null  float64\n",
      " 7   median_income       20640 non-null  float64\n",
      " 8   median_house_value  20640 non-null  float64\n",
      " 9   ocean_proximity     20640 non-null  object \n",
      "dtypes: float64(9), object(1)\n",
      "memory usage: 1.6+ MB\n"
     ]
    }
   ],
   "source": [
    "df.info()"
   ]
  },
  {
   "cell_type": "code",
   "execution_count": 27,
   "metadata": {},
   "outputs": [
    {
     "name": "stdout",
     "output_type": "stream",
     "text": [
      "0\n"
     ]
    }
   ],
   "source": [
    "zero_count = (df['total_bedrooms'] == 0).sum()\n",
    "print(zero_count)"
   ]
  },
  {
   "cell_type": "markdown",
   "metadata": {},
   "source": [
    "так как помещений с нулём ванных комнат нет в датафрейме, то заменим пустые значения на нуль"
   ]
  },
  {
   "cell_type": "code",
   "execution_count": 28,
   "metadata": {},
   "outputs": [
    {
     "name": "stdout",
     "output_type": "stream",
     "text": [
      "<class 'pandas.core.frame.DataFrame'>\n",
      "RangeIndex: 20640 entries, 0 to 20639\n",
      "Data columns (total 10 columns):\n",
      " #   Column              Non-Null Count  Dtype  \n",
      "---  ------              --------------  -----  \n",
      " 0   longitude           20640 non-null  float64\n",
      " 1   latitude            20640 non-null  float64\n",
      " 2   housing_median_age  20640 non-null  float64\n",
      " 3   total_rooms         20640 non-null  float64\n",
      " 4   total_bedrooms      20640 non-null  float64\n",
      " 5   population          20640 non-null  float64\n",
      " 6   households          20640 non-null  float64\n",
      " 7   median_income       20640 non-null  float64\n",
      " 8   median_house_value  20640 non-null  float64\n",
      " 9   ocean_proximity     20640 non-null  object \n",
      "dtypes: float64(9), object(1)\n",
      "memory usage: 1.6+ MB\n"
     ]
    }
   ],
   "source": [
    "df['total_bedrooms'] = df['total_bedrooms'].fillna(0)\n",
    "df.info()"
   ]
  },
  {
   "cell_type": "markdown",
   "metadata": {},
   "source": [
    "Проверим наличие дубликатов"
   ]
  },
  {
   "cell_type": "code",
   "execution_count": 29,
   "metadata": {},
   "outputs": [
    {
     "name": "stdout",
     "output_type": "stream",
     "text": [
      "number of duplicate rows:  (0, 10)\n"
     ]
    }
   ],
   "source": [
    "duplicate_rows_data = df[df.duplicated()]\n",
    "print(\"number of duplicate rows: \", duplicate_rows_data.shape)"
   ]
  },
  {
   "cell_type": "markdown",
   "metadata": {},
   "source": [
    "Дубликатов нет"
   ]
  },
  {
   "cell_type": "markdown",
   "metadata": {},
   "source": [
    "Построим модель и обучим её\n"
   ]
  },
  {
   "cell_type": "code",
   "execution_count": 35,
   "metadata": {},
   "outputs": [
    {
     "name": "stdout",
     "output_type": "stream",
     "text": [
      "Обучающая выборка:\n",
      "MSE: 4811134397.884198\n",
      "MAE: 50626.79448983797\n",
      "\n",
      "Тестовая выборка:\n",
      "MSE: 5248005521.732874\n",
      "MAE: 52615.05867896075\n"
     ]
    }
   ],
   "source": [
    "from sklearn.linear_model import LinearRegression\n",
    "from sklearn.model_selection import train_test_split\n",
    "from sklearn.metrics import mean_squared_error, mean_absolute_error\n",
    "X = df.drop([\"median_house_value\",\"ocean_proximity\"], axis=1)\n",
    "y = df[\"median_house_value\"]\n",
    "X_train, X_test, y_train, y_test = train_test_split(X, y, test_size=0.2, random_state=42)\n",
    "\n",
    "# Создание и обучение модели\n",
    "lr = LinearRegression()\n",
    "lr.fit(X_train, y_train)\n",
    "\n",
    "# Предсказания для обучающей выборки\n",
    "y_train_pred = lr.predict(X_train)\n",
    "\n",
    "# Предсказания для тестовой выборки\n",
    "y_test_pred = lr.predict(X_test)\n",
    "\n",
    "# Приведение y_train и y_train_pred к одному индексу\n",
    "y_train = y_train.reset_index(drop=True)\n",
    "y_train_pred = pd.Series(y_train_pred)\n",
    "\n",
    "# Вычисление ошибок для обучающей выборки\n",
    "mse_train = mean_squared_error(y_train, y_train_pred)\n",
    "mae_train = mean_absolute_error(y_train, y_train_pred)\n",
    "\n",
    "# Приведение y_test и y_test_pred к одному индексу\n",
    "y_test = y_test.reset_index(drop=True)\n",
    "y_test_pred = pd.Series(y_test_pred)\n",
    "\n",
    "mse_test = mean_squared_error(y_test, y_test_pred)\n",
    "mae_test = mean_absolute_error(y_test, y_test_pred)\n",
    "\n",
    "print(f'Обучающая выборка:\\nMSE: {mse_train}\\nMAE: {mae_train}\\n')\n",
    "print(f'Тестовая выборка:\\nMSE: {mse_test}\\nMAE: {mae_test}')"
   ]
  },
  {
   "cell_type": "markdown",
   "metadata": {},
   "source": [
    "А что если попробовать построить модель на основе зависимости лишь от двух атрибутов:\"total_rooms\", \"median_income\"?"
   ]
  },
  {
   "cell_type": "code",
   "execution_count": 33,
   "metadata": {},
   "outputs": [
    {
     "name": "stdout",
     "output_type": "stream",
     "text": [
      "Обучающая выборка:\n",
      "MSE: 6991326571.517395\n",
      "MAE: 62490.70552650054\n",
      "\n",
      "Тестовая выборка:\n",
      "MSE: 7091376214.422123\n",
      "MAE: 62987.5275786113\n"
     ]
    }
   ],
   "source": [
    "X = df[[\"total_rooms\", \"median_income\"]]\n",
    "y = df[\"median_house_value\"]\n",
    "# Разделение данных на обучающую и тестовую выборки\n",
    "\n",
    "X_train, X_test, y_train, y_test = train_test_split(X, y, test_size=0.2, random_state=42)\n",
    "\n",
    "# Создание и обучение модели\n",
    "lr = LinearRegression()\n",
    "lr.fit(X_train, y_train)\n",
    "\n",
    "# Предсказания для обучающей выборки\n",
    "y_train_pred = lr.predict(X_train)\n",
    "\n",
    "# Предсказания для тестовой выборки\n",
    "y_test_pred = lr.predict(X_test)\n",
    "\n",
    "# Приведение y_train и y_train_pred к одному индексу\n",
    "y_train = y_train.reset_index(drop=True)\n",
    "y_train_pred = pd.Series(y_train_pred)\n",
    "\n",
    "# Вычисление ошибок для обучающей выборки\n",
    "mse_train = mean_squared_error(y_train, y_train_pred)\n",
    "mae_train = mean_absolute_error(y_train, y_train_pred)\n",
    "\n",
    "# Приведение y_test и y_test_pred к одному индексу\n",
    "y_test = y_test.reset_index(drop=True)\n",
    "y_test_pred = pd.Series(y_test_pred)\n",
    "\n",
    "mse_test = mean_squared_error(y_test, y_test_pred)\n",
    "mae_test = mean_absolute_error(y_test, y_test_pred)\n",
    "\n",
    "print(f'Обучающая выборка:\\nMSE: {mse_train}\\nMAE: {mae_train}\\n')\n",
    "print(f'Тестовая выборка:\\nMSE: {mse_test}\\nMAE: {mae_test}')"
   ]
  },
  {
   "cell_type": "markdown",
   "metadata": {},
   "source": [
    "Стало хуже, но на полном дата сете возникает переобучение.\n",
    "Мне сложно сказать насколько хороши модели  в целом, но при сравнении моделей друг с другом метрики показывают насколько модели хороши относительно друг друга"
   ]
  }
 ],
 "metadata": {
  "kernelspec": {
   "display_name": "Python 3",
   "language": "python",
   "name": "python3"
  },
  "language_info": {
   "codemirror_mode": {
    "name": "ipython",
    "version": 3
   },
   "file_extension": ".py",
   "mimetype": "text/x-python",
   "name": "python",
   "nbconvert_exporter": "python",
   "pygments_lexer": "ipython3",
   "version": "3.13.0"
  }
 },
 "nbformat": 4,
 "nbformat_minor": 2
}
